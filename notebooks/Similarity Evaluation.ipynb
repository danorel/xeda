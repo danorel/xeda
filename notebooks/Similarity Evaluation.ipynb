{
 "cells": [
  {
   "cell_type": "code",
   "execution_count": 1,
   "id": "afee9f9e-e557-459d-9e2b-89564700f1bf",
   "metadata": {},
   "outputs": [],
   "source": [
    "!pip install --quiet scikit-learn"
   ]
  },
  {
   "cell_type": "code",
   "execution_count": 2,
   "id": "1bbb524c-f38a-4701-8740-59cf242e0d17",
   "metadata": {},
   "outputs": [
    {
     "name": "stdout",
     "output_type": "stream",
     "text": [
      "/Users/danorel/Workspace/Education/University/NYU/Research/xeda\n"
     ]
    }
   ],
   "source": [
    "%cd .."
   ]
  },
  {
   "cell_type": "code",
   "execution_count": 3,
   "id": "82b6c16d-2841-4c65-80d8-a3306adcd4d3",
   "metadata": {},
   "outputs": [
    {
     "data": {
      "text/plain": [
       "True"
      ]
     },
     "execution_count": 3,
     "metadata": {},
     "output_type": "execute_result"
    }
   ],
   "source": [
    "from dotenv import load_dotenv, find_dotenv\n",
    "load_dotenv(find_dotenv('.env'))"
   ]
  },
  {
   "cell_type": "code",
   "execution_count": 4,
   "id": "3b402eb9-96c5-4a9f-a0f9-71efb79863a7",
   "metadata": {},
   "outputs": [
    {
     "name": "stderr",
     "output_type": "stream",
     "text": [
      "2024-05-07 13:37:59.372607: I tensorflow/core/platform/cpu_feature_guard.cc:182] This TensorFlow binary is optimized to use available CPU instructions in performance-critical operations.\n",
      "To enable the following instructions: AVX2 FMA, in other operations, rebuild TensorFlow with the appropriate compiler flags.\n"
     ]
    }
   ],
   "source": [
    "import random\n",
    "import chromadb\n",
    "import copy\n",
    "import json\n",
    "import typing as t\n",
    "import pandas as pd\n",
    "import numpy as np\n",
    "import uuid\n",
    "import pathlib\n",
    "import s3fs\n",
    "import openai\n",
    "import traceback\n",
    "\n",
    "from dagster import EnvVar\n",
    "from sklearn.metrics.pairwise import cosine_similarity\n",
    "from time import time\n",
    "from tqdm import tqdm\n",
    "\n",
    "from constants import (\n",
    "    AWS_ACCESS_KEY_ID,\n",
    "    AWS_SECRET_ACCESS_KEY,\n",
    "    AWS_S3_ENDPOINT_URL,\n",
    "    AWS_S3_REGION_NAME,\n",
    "    AWS_S3_BUCKET_NAME,\n",
    "    AWS_S3_USE_SSL,\n",
    "    GROUPS_CSV_PATH,\n",
    "    OPENAI_API_KEY,\n",
    "    OPENAI_EMBEDDINGS_MODEL,\n",
    "    VECTOR_STORE_COLLECTION,\n",
    "    VECTOR_STORE_HOST,\n",
    "    VECTOR_STORE_PORT,\n",
    "    UNIVERSAL_POLICY_NAME\n",
    ")\n",
    "from typings.pipeline import Pipeline, PipelineEda4Sum\n",
    "from pipeline.resources import S3FSResource\n",
    "from pipeline.solid.pipeline_annotator import annotate_pipeline\n",
    "from pipeline.solid.utils.model_manager import ModelManager\n",
    "from pipeline.solid.utils.pipelines.pipeline_precalculated_sets import PipelineWithPrecalculatedSets\n",
    "from typings.pipeline import OperatorRequestData\n",
    "from utils.s3 import pull_keras_model\n",
    "from utils.vector_store import ChromaDBVectorStore, MilvusVectorStore, SearchResult, make_document_sampler"
   ]
  },
  {
   "cell_type": "markdown",
   "id": "d80acce9-52c6-4539-961e-7d46c16daccb",
   "metadata": {},
   "source": [
    "### Preparing dataset"
   ]
  },
  {
   "cell_type": "code",
   "execution_count": 5,
   "id": "5a7d5c4d-8700-41d6-addc-7913f53ad09c",
   "metadata": {},
   "outputs": [],
   "source": [
    "embedding_client = openai.OpenAI(api_key=OPENAI_API_KEY)"
   ]
  },
  {
   "cell_type": "code",
   "execution_count": 6,
   "id": "39885c0f-d722-42a0-bba5-73e0a906cb21",
   "metadata": {},
   "outputs": [],
   "source": [
    "vector_store = MilvusVectorStore(\n",
    "    host=VECTOR_STORE_HOST, \n",
    "    port=VECTOR_STORE_PORT,\n",
    "    collection_name=VECTOR_STORE_COLLECTION\n",
    ")"
   ]
  },
  {
   "cell_type": "code",
   "execution_count": 7,
   "id": "4cb04674-c53e-455b-99ee-556233264cd4",
   "metadata": {},
   "outputs": [],
   "source": [
    "fs = s3fs.S3FileSystem(\n",
    "    key=AWS_ACCESS_KEY_ID,\n",
    "    secret=AWS_SECRET_ACCESS_KEY,\n",
    "    endpoint_url=AWS_S3_ENDPOINT_URL,\n",
    "    use_ssl=AWS_S3_USE_SSL,\n",
    "    client_kwargs={\"region_name\": AWS_S3_REGION_NAME},\n",
    ")"
   ]
  },
  {
   "cell_type": "code",
   "execution_count": 8,
   "id": "95cca48f-c808-4761-ba4e-8e16e3b24629",
   "metadata": {},
   "outputs": [],
   "source": [
    "database_pipeline_cache = {}\n",
    "database_pipeline_cache[\"galaxies\"] = PipelineWithPrecalculatedSets(\n",
    "    \"sdss\",\n",
    "    [\"galaxies\"],\n",
    "    discrete_categories_count=10,\n",
    "    min_set_size=10,\n",
    "    exploration_columns=[\n",
    "        \"galaxies.u\",\n",
    "        \"galaxies.g\",\n",
    "        \"galaxies.r\",\n",
    "        \"galaxies.i\",\n",
    "        \"galaxies.z\",\n",
    "        \"galaxies.petroRad_r\",\n",
    "        \"galaxies.redshift\",\n",
    "    ],\n",
    "    id_column=\"galaxies.objID\",\n",
    ")"
   ]
  },
  {
   "cell_type": "code",
   "execution_count": 9,
   "id": "b7715d7c-4eb2-4e66-9b74-859dbbedcf8d",
   "metadata": {},
   "outputs": [
    {
     "name": "stdout",
     "output_type": "stream",
     "text": [
      "WARNING:tensorflow:No training configuration found in save file, so the model was *not* compiled. Compile it manually.\n",
      "WARNING:tensorflow:No training configuration found in save file, so the model was *not* compiled. Compile it manually.\n"
     ]
    }
   ],
   "source": [
    "model_manager = ModelManager(database_pipeline_cache[\"galaxies\"], models = {\n",
    "    \"set\": pull_keras_model(\n",
    "        s3fs=fs,\n",
    "        bucket_name=AWS_S3_BUCKET_NAME,\n",
    "        policy_name=UNIVERSAL_POLICY_NAME,\n",
    "        model_name=\"set_actor\",\n",
    "    ),\n",
    "    \"operation\": pull_keras_model(\n",
    "        s3fs=fs,\n",
    "        bucket_name=AWS_S3_BUCKET_NAME,\n",
    "        policy_name=UNIVERSAL_POLICY_NAME,\n",
    "        model_name=\"operation_actor\",\n",
    "    ),\n",
    "    \"set_op_counters\": None,\n",
    "})"
   ]
  },
  {
   "cell_type": "code",
   "execution_count": 10,
   "id": "af666a3f-7a91-480d-a8c8-33166574b158",
   "metadata": {},
   "outputs": [],
   "source": [
    "groups_df = pd.read_csv(GROUPS_CSV_PATH)"
   ]
  },
  {
   "cell_type": "code",
   "execution_count": 11,
   "id": "53ea9aea-1003-4674-a68c-6d880eac2e26",
   "metadata": {},
   "outputs": [],
   "source": [
    "def make_embedding(text):\n",
    "    response = embedding_client.embeddings.create(\n",
    "        input=text,\n",
    "        model=OPENAI_EMBEDDINGS_MODEL\n",
    "    )\n",
    "    return response.data[0].embedding"
   ]
  },
  {
   "cell_type": "code",
   "execution_count": 12,
   "id": "c74ca9ba-a71c-4b21-9abd-50efc6ec6052",
   "metadata": {},
   "outputs": [],
   "source": [
    "def node_to_annotation_encoding(node):\n",
    "    annotation = node[\"annotation\"]\n",
    "    node_encoding = []\n",
    "    for k, v in annotation.items():\n",
    "        if isinstance(v, dict):\n",
    "            for key in v:\n",
    "                node_encoding.append(f\"{k}_{key} = {v[key]}\")\n",
    "        else:\n",
    "            node_encoding.append(f\"{k} = {v}\")\n",
    "    return ', '.join(node_encoding)\n",
    "\n",
    "def annotation_subset_to_embedding(annotation_subset: t.List[str]):\n",
    "    annotation_text = ';'.join(annotation_subset)\n",
    "    annotation_embedding = make_embedding(annotation_text)\n",
    "    return annotation_embedding\n",
    "\n",
    "def pipeline_to_annotation_subsets(pipeline: Pipeline) -> t.List[Pipeline]:\n",
    "    annotation_subsets = []\n",
    "    partial_annotation = []\n",
    "    for node in reversed(pipeline):\n",
    "        encoded_annotation = node_to_annotation_encoding(node)\n",
    "        partial_annotation.append(encoded_annotation)\n",
    "        annotation_subsets.append(copy.deepcopy(partial_annotation))\n",
    "    return annotation_subsets\n",
    "\n",
    "def pipeline_to_annotation_payloads(pipeline: Pipeline):\n",
    "    annotation_subsets = pipeline_to_annotation_subsets(pipeline)\n",
    "    annotation_payloads = (\n",
    "        [str(uuid.uuid4()) for _ in range(len(annotation_subsets))],\n",
    "        [annotation_subset_to_embedding(annotation_subset) for annotation_subset in annotation_subsets]\n",
    "    )\n",
    "    return annotation_payloads\n",
    "\n",
    "def pipeline_to_encoding(annotated_pipeline: PipelineEda4Sum):\n",
    "    return ';'.join([node_to_annotation_encoding(node) for node in annotated_pipeline])\n",
    "\n",
    "def pipeline_to_embedding(pipeline: PipelineEda4Sum):\n",
    "    annotated_pipeline = annotate_pipeline(groups_df, pipeline)\n",
    "    pipeline_encoding = pipeline_to_encoding(annotated_pipeline)\n",
    "    pipeline_embedding = make_embedding(pipeline_encoding)\n",
    "    return pipeline_embedding"
   ]
  },
  {
   "cell_type": "code",
   "execution_count": 13,
   "id": "cd6203b6-4928-4c4e-9cfd-5e9881857dbc",
   "metadata": {},
   "outputs": [
    {
     "name": "stdout",
     "output_type": "stream",
     "text": [
      "Skipping refresh of vector storage\n"
     ]
    }
   ],
   "source": [
    "def fetch_pipelines():\n",
    "    for annotated_file in fs.glob('xeda/annotated_pipelines/*.json'):\n",
    "        with fs.open(annotated_file, 'r') as f:\n",
    "            annotated_pipeline = json.load(f)\n",
    "            if not isinstance(annotated_pipeline, list) or not len(annotated_pipeline):\n",
    "                continue\n",
    "            serialized_pipeline = json.dumps(annotated_pipeline)\n",
    "            if len(serialized_pipeline) > 65535:\n",
    "                continue\n",
    "            yield annotated_pipeline, serialized_pipeline\n",
    "\n",
    "def insert_pipelines(vector_store, refresh: bool = True):\n",
    "    if not refresh:\n",
    "        print(\"Skipping refresh of vector storage\")\n",
    "        return\n",
    "    for annotated_pipeline, serialized_pipeline in tqdm(fetch_pipelines()):\n",
    "        (\n",
    "            annotation_ids,\n",
    "            annotation_embeddings\n",
    "        ) = pipeline_to_annotation_payloads(annotated_pipeline)\n",
    "        if len(annotation_ids) > 0:\n",
    "            vector_store.insert(\n",
    "                ids=annotation_ids,\n",
    "                documents=[serialized_pipeline for _ in range(len(annotation_ids))],\n",
    "                embeddings=annotation_embeddings,\n",
    "            )\n",
    "\n",
    "insert_pipelines(vector_store, refresh=False)"
   ]
  },
  {
   "cell_type": "markdown",
   "id": "bd9a3938-2cbe-4501-b315-ffbe4214abd8",
   "metadata": {},
   "source": [
    "### Experiments"
   ]
  },
  {
   "cell_type": "code",
   "execution_count": 14,
   "id": "fc390b12-0b70-4705-a074-06974a10f1f6",
   "metadata": {},
   "outputs": [],
   "source": [
    "from concurrent.futures import ThreadPoolExecutor\n",
    "\n",
    "def result_to_pipeline(result: SearchResult):\n",
    "    try:\n",
    "        return json.loads(result.get('document'))\n",
    "    except:\n",
    "        return {}\n",
    "\n",
    "def result_to_id(result: SearchResult):\n",
    "    try:\n",
    "        return result.get('id')\n",
    "    except:\n",
    "        return None\n",
    "\n",
    "def revert_pipeline(pipeline, k: int):\n",
    "    return pipeline[:-k]\n",
    "\n",
    "def lookup_metric(rank, k):\n",
    "    \"\"\"\n",
    "    Calculate the similarity score based on the rank of the target in the k-nearest neighbors.\n",
    "    \n",
    "    Parameters:\n",
    "    - rank: int, the rank (1-based) of the target in the search results. If the target is not found, this should be None or a value greater than k.\n",
    "    - k: int, the number of nearest neighbors considered in the search.\n",
    "    \n",
    "    Returns:\n",
    "    - float, the similarity score, ranging from 1 (best) to 0 (not found).\n",
    "    \"\"\"\n",
    "    if rank is None or rank > k:\n",
    "        return 0\n",
    "    else:\n",
    "        return (k - rank + 1) / k\n",
    "\n",
    "def make_experiment(vector_store, terminal_pipeline, terminal_pipeline_id, exploration_steps: int):\n",
    "    print(f\"Starting an experiment with exploration_steps='{exploration_steps}'\")\n",
    "    start_time = time()\n",
    "\n",
    "    terminal_embedding = pipeline_to_embedding(terminal_pipeline)\n",
    "    \n",
    "    partial_pipeline = revert_pipeline(terminal_pipeline, k=exploration_steps)\n",
    "    partial_embedding = pipeline_to_embedding(partial_pipeline)\n",
    "    \n",
    "    partial_search_results = vector_store.search(embedding=partial_embedding, k=1000)\n",
    "    neighbours_pipeline_ids = [result_to_id(result) for result in partial_search_results]\n",
    "\n",
    "    exploration_lookup = len(neighbours_pipeline_ids)\n",
    "    within_lookup = terminal_pipeline_id in neighbours_pipeline_ids\n",
    "    try:\n",
    "        lookup_rank = int(neighbours_pipeline_ids.index(terminal_pipeline_id))\n",
    "    except:\n",
    "        lookup_rank = None\n",
    "    lookup_score = lookup_metric(lookup_rank, exploration_lookup)\n",
    "\n",
    "    print(f\"Finished an experiment with  exploration_steps='{exploration_steps}' and exploration_lookup='{exploration_lookup}' in {time() - start_time}s\")\n",
    "    \n",
    "    return {\n",
    "        \"terminal_pipeline_id\": terminal_pipeline_id,\n",
    "        \"within_lookup\": within_lookup,\n",
    "        \"lookup_rank\": lookup_rank,\n",
    "        \"lookup_score\": lookup_score,\n",
    "        \"exploration_lookup\": exploration_lookup\n",
    "    }\n",
    "\n",
    "def experiment_metadata(experiment, exploration_steps: int):\n",
    "    r = {\n",
    "        \"experiment\": experiment + 1,\n",
    "        \"exploration_steps\": exploration_steps,\n",
    "    }\n",
    "    return r\n",
    "\n",
    "def run_single_experiment(args):\n",
    "    try:\n",
    "        experiment, vector_store, terminal_pipeline, terminal_pipeline_id, explorations_steps = args\n",
    "        results = []\n",
    "        for exploration_steps in range(*explorations_steps):\n",
    "            experiment_config = (exploration_steps,)\n",
    "            results.append({\n",
    "                **experiment_metadata(\n",
    "                    experiment,\n",
    "                    *experiment_config\n",
    "                ),\n",
    "                **make_experiment(\n",
    "                    vector_store,\n",
    "                    terminal_pipeline,\n",
    "                    terminal_pipeline_id,\n",
    "                    *experiment_config\n",
    "                )\n",
    "            })\n",
    "        return results\n",
    "    except Exception as e:\n",
    "        print(f\"Error in experiment {args[0]}: {e}\")  # Log the error and experiment details\n",
    "        print(traceback.format_exc())\n",
    "        return []  # Return an empty list or some error indicator\n",
    "\n",
    "\n",
    "def run_experiments(n: int = 1000, explorations_steps: tuple = (3, 6), max_workers: int = 1):\n",
    "    pipeline_sampler = make_document_sampler(vector_store)\n",
    "\n",
    "    # Prepare arguments for each experiment\n",
    "    experiments_args = []\n",
    "    for experiment in range(n):\n",
    "        sampled_pipeline = None\n",
    "        while sampled_pipeline is None:\n",
    "            sampled_pipeline_index, sampled_pipeline_id = pipeline_sampler()\n",
    "            try:\n",
    "                sampled_pipeline = result_to_pipeline(vector_store.get(sampled_pipeline_id))\n",
    "            except Exception as e:\n",
    "                print(f\"Failed to parse Pipeline[id={sampled_pipeline_id}]\")\n",
    "        experiments_args.append((experiment, vector_store, sampled_pipeline, sampled_pipeline_id, explorations_steps))\n",
    "    \n",
    "    # Run experiments in parallel\n",
    "    with ThreadPoolExecutor(max_workers=max_workers) as executor:\n",
    "        results = list(tqdm(executor.map(run_single_experiment, experiments_args), total=n))\n",
    "    \n",
    "    # Collect all results into a single DataFrame\n",
    "    experiments = pd.DataFrame([item for sublist in results for item in sublist])\n",
    "    return experiments"
   ]
  },
  {
   "cell_type": "code",
   "execution_count": 15,
   "id": "d3f7fbb4-7fea-44ef-8225-4939b0206287",
   "metadata": {
    "scrolled": true
   },
   "outputs": [],
   "source": [
    "experiments_path = 'data/evaluation_experiments_1000_k-1-4.csv'\n",
    "\n",
    "if pathlib.Path(experiments_path).exists():\n",
    "    experiments_df = pd.read_csv(experiments_path)\n",
    "else:\n",
    "    experiments_df = run_experiments(\n",
    "        n=1000,\n",
    "        explorations_steps=(1, 5)\n",
    "    )"
   ]
  },
  {
   "cell_type": "code",
   "execution_count": 16,
   "id": "9e69ca76-17d4-4083-9a05-1acd2b49b8a8",
   "metadata": {},
   "outputs": [],
   "source": [
    "experiments_df.to_csv(experiments_path, index=False)"
   ]
  },
  {
   "cell_type": "markdown",
   "id": "e1027a6d-2e71-4c50-bbce-5653e661480d",
   "metadata": {},
   "source": [
    "### Visualizations"
   ]
  },
  {
   "cell_type": "code",
   "execution_count": 17,
   "id": "8ebd405e-9aee-48a6-94b0-64b076b40839",
   "metadata": {},
   "outputs": [],
   "source": [
    "!pip install --quiet matplotlib seaborn"
   ]
  },
  {
   "cell_type": "code",
   "execution_count": 18,
   "id": "bc6e6015-aea7-411f-b963-c8fe5c5650ef",
   "metadata": {},
   "outputs": [],
   "source": [
    "import matplotlib.pyplot as plt\n",
    "import math\n",
    "import seaborn as sns"
   ]
  },
  {
   "cell_type": "code",
   "execution_count": 19,
   "id": "648f5fd3-c7f1-4ac3-b15a-256282e640c5",
   "metadata": {},
   "outputs": [],
   "source": [
    "visualization_df = experiments_df.copy()"
   ]
  },
  {
   "cell_type": "code",
   "execution_count": 20,
   "id": "f8071a32-c247-499a-b6e0-450b6b550659",
   "metadata": {},
   "outputs": [
    {
     "data": {
      "text/html": [
       "<div>\n",
       "<style scoped>\n",
       "    .dataframe tbody tr th:only-of-type {\n",
       "        vertical-align: middle;\n",
       "    }\n",
       "\n",
       "    .dataframe tbody tr th {\n",
       "        vertical-align: top;\n",
       "    }\n",
       "\n",
       "    .dataframe thead th {\n",
       "        text-align: right;\n",
       "    }\n",
       "</style>\n",
       "<table border=\"1\" class=\"dataframe\">\n",
       "  <thead>\n",
       "    <tr style=\"text-align: right;\">\n",
       "      <th></th>\n",
       "      <th>experiment</th>\n",
       "      <th>exploration_steps</th>\n",
       "      <th>terminal_pipeline_id</th>\n",
       "      <th>within_lookup</th>\n",
       "      <th>lookup_rank</th>\n",
       "      <th>lookup_score</th>\n",
       "      <th>exploration_lookup</th>\n",
       "    </tr>\n",
       "  </thead>\n",
       "  <tbody>\n",
       "    <tr>\n",
       "      <th>0</th>\n",
       "      <td>1</td>\n",
       "      <td>1</td>\n",
       "      <td>35ac3fb5-70b9-447e-b0ff-0e60fb771db6</td>\n",
       "      <td>True</td>\n",
       "      <td>146.0</td>\n",
       "      <td>0.500000</td>\n",
       "      <td>290</td>\n",
       "    </tr>\n",
       "    <tr>\n",
       "      <th>1</th>\n",
       "      <td>1</td>\n",
       "      <td>2</td>\n",
       "      <td>35ac3fb5-70b9-447e-b0ff-0e60fb771db6</td>\n",
       "      <td>True</td>\n",
       "      <td>143.0</td>\n",
       "      <td>0.510345</td>\n",
       "      <td>290</td>\n",
       "    </tr>\n",
       "    <tr>\n",
       "      <th>2</th>\n",
       "      <td>1</td>\n",
       "      <td>3</td>\n",
       "      <td>35ac3fb5-70b9-447e-b0ff-0e60fb771db6</td>\n",
       "      <td>True</td>\n",
       "      <td>142.0</td>\n",
       "      <td>0.397436</td>\n",
       "      <td>234</td>\n",
       "    </tr>\n",
       "    <tr>\n",
       "      <th>3</th>\n",
       "      <td>1</td>\n",
       "      <td>4</td>\n",
       "      <td>35ac3fb5-70b9-447e-b0ff-0e60fb771db6</td>\n",
       "      <td>True</td>\n",
       "      <td>141.0</td>\n",
       "      <td>0.401709</td>\n",
       "      <td>234</td>\n",
       "    </tr>\n",
       "    <tr>\n",
       "      <th>4</th>\n",
       "      <td>2</td>\n",
       "      <td>1</td>\n",
       "      <td>bdc1327f-46dc-42ab-88fb-f16c40e0c0ec</td>\n",
       "      <td>False</td>\n",
       "      <td>NaN</td>\n",
       "      <td>0.000000</td>\n",
       "      <td>229</td>\n",
       "    </tr>\n",
       "    <tr>\n",
       "      <th>...</th>\n",
       "      <td>...</td>\n",
       "      <td>...</td>\n",
       "      <td>...</td>\n",
       "      <td>...</td>\n",
       "      <td>...</td>\n",
       "      <td>...</td>\n",
       "      <td>...</td>\n",
       "    </tr>\n",
       "    <tr>\n",
       "      <th>3995</th>\n",
       "      <td>999</td>\n",
       "      <td>4</td>\n",
       "      <td>b6b5c8c1-7e2f-4310-adcb-a900aca857fe</td>\n",
       "      <td>False</td>\n",
       "      <td>NaN</td>\n",
       "      <td>0.000000</td>\n",
       "      <td>356</td>\n",
       "    </tr>\n",
       "    <tr>\n",
       "      <th>3996</th>\n",
       "      <td>1000</td>\n",
       "      <td>1</td>\n",
       "      <td>b6fc81f2-4c28-4ed8-b022-3d49615e4568</td>\n",
       "      <td>False</td>\n",
       "      <td>NaN</td>\n",
       "      <td>0.000000</td>\n",
       "      <td>260</td>\n",
       "    </tr>\n",
       "    <tr>\n",
       "      <th>3997</th>\n",
       "      <td>1000</td>\n",
       "      <td>2</td>\n",
       "      <td>b6fc81f2-4c28-4ed8-b022-3d49615e4568</td>\n",
       "      <td>False</td>\n",
       "      <td>NaN</td>\n",
       "      <td>0.000000</td>\n",
       "      <td>264</td>\n",
       "    </tr>\n",
       "    <tr>\n",
       "      <th>3998</th>\n",
       "      <td>1000</td>\n",
       "      <td>3</td>\n",
       "      <td>b6fc81f2-4c28-4ed8-b022-3d49615e4568</td>\n",
       "      <td>False</td>\n",
       "      <td>NaN</td>\n",
       "      <td>0.000000</td>\n",
       "      <td>232</td>\n",
       "    </tr>\n",
       "    <tr>\n",
       "      <th>3999</th>\n",
       "      <td>1000</td>\n",
       "      <td>4</td>\n",
       "      <td>b6fc81f2-4c28-4ed8-b022-3d49615e4568</td>\n",
       "      <td>False</td>\n",
       "      <td>NaN</td>\n",
       "      <td>0.000000</td>\n",
       "      <td>279</td>\n",
       "    </tr>\n",
       "  </tbody>\n",
       "</table>\n",
       "<p>4000 rows × 7 columns</p>\n",
       "</div>"
      ],
      "text/plain": [
       "      experiment  exploration_steps                  terminal_pipeline_id  \\\n",
       "0              1                  1  35ac3fb5-70b9-447e-b0ff-0e60fb771db6   \n",
       "1              1                  2  35ac3fb5-70b9-447e-b0ff-0e60fb771db6   \n",
       "2              1                  3  35ac3fb5-70b9-447e-b0ff-0e60fb771db6   \n",
       "3              1                  4  35ac3fb5-70b9-447e-b0ff-0e60fb771db6   \n",
       "4              2                  1  bdc1327f-46dc-42ab-88fb-f16c40e0c0ec   \n",
       "...          ...                ...                                   ...   \n",
       "3995         999                  4  b6b5c8c1-7e2f-4310-adcb-a900aca857fe   \n",
       "3996        1000                  1  b6fc81f2-4c28-4ed8-b022-3d49615e4568   \n",
       "3997        1000                  2  b6fc81f2-4c28-4ed8-b022-3d49615e4568   \n",
       "3998        1000                  3  b6fc81f2-4c28-4ed8-b022-3d49615e4568   \n",
       "3999        1000                  4  b6fc81f2-4c28-4ed8-b022-3d49615e4568   \n",
       "\n",
       "      within_lookup  lookup_rank  lookup_score  exploration_lookup  \n",
       "0              True        146.0      0.500000                 290  \n",
       "1              True        143.0      0.510345                 290  \n",
       "2              True        142.0      0.397436                 234  \n",
       "3              True        141.0      0.401709                 234  \n",
       "4             False          NaN      0.000000                 229  \n",
       "...             ...          ...           ...                 ...  \n",
       "3995          False          NaN      0.000000                 356  \n",
       "3996          False          NaN      0.000000                 260  \n",
       "3997          False          NaN      0.000000                 264  \n",
       "3998          False          NaN      0.000000                 232  \n",
       "3999          False          NaN      0.000000                 279  \n",
       "\n",
       "[4000 rows x 7 columns]"
      ]
     },
     "execution_count": 20,
     "metadata": {},
     "output_type": "execute_result"
    }
   ],
   "source": [
    "visualization_df"
   ]
  },
  {
   "cell_type": "code",
   "execution_count": 21,
   "id": "95e4bc8c-633a-49da-a0f3-77965bec6b5c",
   "metadata": {},
   "outputs": [
    {
     "data": {
      "image/png": "[encoded data removed]",
      "text/plain": [
       "<Figure size 1200x500 with 1 Axes>"
      ]
     },
     "metadata": {},
     "output_type": "display_data"
    }
   ],
   "source": [
    "exploration_steps_3_df = visualization_df.loc[\n",
    "    (visualization_df['exploration_steps'] == 3) &\n",
    "    (visualization_df['within_lookup'] == True)\n",
    "][['experiment', 'lookup_score', 'lookup_rank']]\n",
    "\n",
    "plot = exploration_steps_3_df.plot(\n",
    "    kind='bar',\n",
    "    x='experiment', \n",
    "    y='lookup_score',\n",
    "    title='Metric: cosine; Exploration steps = 3',\n",
    "    figsize=(12, 5)\n",
    ")\n",
    "plt.show()"
   ]
  }
 ],
 "metadata": {
  "kernelspec": {
   "display_name": "xeda_3.8.15",
   "language": "python",
   "name": "xeda_3.8.15"
  },
  "language_info": {
   "codemirror_mode": {
    "name": "ipython",
    "version": 3
   },
   "file_extension": ".py",
   "mimetype": "text/x-python",
   "name": "python",
   "nbconvert_exporter": "python",
   "pygments_lexer": "ipython3",
   "version": "3.8.15"
  }
 },
 "nbformat": 4,
 "nbformat_minor": 5
}
